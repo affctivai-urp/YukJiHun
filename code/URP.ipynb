{
  "nbformat": 4,
  "nbformat_minor": 0,
  "metadata": {
    "colab": {
      "provenance": []
    },
    "kernelspec": {
      "name": "python3",
      "display_name": "Python 3"
    },
    "language_info": {
      "name": "python"
    }
  },
  "cells": [
    {
      "cell_type": "code",
      "execution_count": 1,
      "metadata": {
        "colab": {
          "base_uri": "https://localhost:8080/"
        },
        "id": "nNFFDEIAmeKX",
        "outputId": "0f69f772-7c95-49a7-9c5c-40076e46871c"
      },
      "outputs": [
        {
          "output_type": "stream",
          "name": "stdout",
          "text": [
            "Mounted at /content/gdrive\n"
          ]
        }
      ],
      "source": [
        "import numpy as np\n",
        "import pandas as pd\n",
        "import matplotlib.pyplot as plt\n",
        "from sklearn.model_selection import train_test_split\n",
        "from scipy.signal import butter, filtfilt, find_peaks\n",
        "from scipy import signal\n",
        "from scipy.interpolate import interp1d\n",
        "from mpl_toolkits.axes_grid1 import make_axes_locatable\n",
        "from numpy import *\n",
        "from random import shuffle\n",
        "import tensorflow as tf\n",
        "import os\n",
        "import torch\n",
        "import torch.nn as nn\n",
        "import easydict\n",
        "from tqdm.notebook import trange, tqdm\n",
        "from torch import optim\n",
        "from torch.utils.data import Dataset, DataLoader\n",
        "import torch.nn.functional as F\n",
        "from google.colab import drive\n",
        "drive.mount('/content/gdrive')\n",
        "device = torch.device(\"cuda:0\" if torch.cuda.is_available() else \"cpu\")"
      ]
    },
    {
      "cell_type": "code",
      "source": [
        "import zipfile\n",
        "zipfile.ZipFile('/content/gdrive/MyDrive/DEAP.zip').extractall()"
      ],
      "metadata": {
        "id": "bD0mKBMTpDXj"
      },
      "execution_count": 3,
      "outputs": []
    },
    {
      "cell_type": "code",
      "source": [
        "from scipy import io\n",
        "\n",
        "mat_file = {}\n",
        "\n",
        "for i in range(1,33):\n",
        "    if i <10:\n",
        "        mat_file[i] = io.loadmat('/content/gdrive/MyDrive/DEAP/DEAP/data_preprocessed_matlab/s0'+ str(i) + '.mat')\n",
        "    else:\n",
        "        mat_file[i] = io.loadmat('/content/gdrive/MyDrive/DEAP/DEAP/data_preprocessed_matlab/s'+ str(i) + '.mat')"
      ],
      "metadata": {
        "id": "R-vQ0RcZvWg3"
      },
      "execution_count": 6,
      "outputs": []
    },
    {
      "cell_type": "code",
      "source": [
        "from sklearn.model_selection import train_test_split\n",
        "\n",
        "data = []\n",
        "labels = []\n",
        "for i in range(1, 33):\n",
        "    mat_data = mat_file[i]['data']\n",
        "    mat_labels = mat_file[i]['labels']\n",
        "    data.append(mat_data)\n",
        "    labels.append(mat_labels)\n",
        "\n",
        "for i in range(32):\n",
        "    print(f\"개인 {i+1}의 데이터: {data[i].shape}\")\n",
        "\n",
        "X_train, X_test, y_train, y_test = train_test_split(data, labels, test_size=0.2, random_state=42)\n",
        "\n",
        "print(f\"훈련 세트 데이터: {np.concatenate(X_train).shape}\")\n",
        "print(f\"테스트 세트 데이터: {np.concatenate(X_test).shape}\")\n",
        "\n",
        "X_train, X_test, y_train, y_test = train_test_split(data, labels, test_size=0.2, shuffle=True)\n",
        "\n",
        "print(f\"훈련 세트 데이터: {np.concatenate(X_train).shape}\")\n",
        "print(f\"테스트 세트 데이터: {np.concatenate(X_test).shape}\")"
      ],
      "metadata": {
        "colab": {
          "base_uri": "https://localhost:8080/"
        },
        "id": "qJDZMtScqb7e",
        "outputId": "7eec6b71-e4b0-41c7-b3ff-684d998afa2a"
      },
      "execution_count": 9,
      "outputs": [
        {
          "output_type": "stream",
          "name": "stdout",
          "text": [
            "개인 1의 데이터: (40, 40, 8064)\n",
            "개인 2의 데이터: (40, 40, 8064)\n",
            "개인 3의 데이터: (40, 40, 8064)\n",
            "개인 4의 데이터: (40, 40, 8064)\n",
            "개인 5의 데이터: (40, 40, 8064)\n",
            "개인 6의 데이터: (40, 40, 8064)\n",
            "개인 7의 데이터: (40, 40, 8064)\n",
            "개인 8의 데이터: (40, 40, 8064)\n",
            "개인 9의 데이터: (40, 40, 8064)\n",
            "개인 10의 데이터: (40, 40, 8064)\n",
            "개인 11의 데이터: (40, 40, 8064)\n",
            "개인 12의 데이터: (40, 40, 8064)\n",
            "개인 13의 데이터: (40, 40, 8064)\n",
            "개인 14의 데이터: (40, 40, 8064)\n",
            "개인 15의 데이터: (40, 40, 8064)\n",
            "개인 16의 데이터: (40, 40, 8064)\n",
            "개인 17의 데이터: (40, 40, 8064)\n",
            "개인 18의 데이터: (40, 40, 8064)\n",
            "개인 19의 데이터: (40, 40, 8064)\n",
            "개인 20의 데이터: (40, 40, 8064)\n",
            "개인 21의 데이터: (40, 40, 8064)\n",
            "개인 22의 데이터: (40, 40, 8064)\n",
            "개인 23의 데이터: (40, 40, 8064)\n",
            "개인 24의 데이터: (40, 40, 8064)\n",
            "개인 25의 데이터: (40, 40, 8064)\n",
            "개인 26의 데이터: (40, 40, 8064)\n",
            "개인 27의 데이터: (40, 40, 8064)\n",
            "개인 28의 데이터: (40, 40, 8064)\n",
            "개인 29의 데이터: (40, 40, 8064)\n",
            "개인 30의 데이터: (40, 40, 8064)\n",
            "개인 31의 데이터: (40, 40, 8064)\n",
            "개인 32의 데이터: (40, 40, 8064)\n",
            "훈련 세트 데이터: (1000, 40, 8064)\n",
            "테스트 세트 데이터: (280, 40, 8064)\n",
            "훈련 세트 데이터: (1000, 40, 8064)\n",
            "테스트 세트 데이터: (280, 40, 8064)\n"
          ]
        }
      ]
    }
  ]
}
